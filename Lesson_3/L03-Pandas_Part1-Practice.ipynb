{
 "cells": [
  {
   "cell_type": "markdown",
   "metadata": {},
   "source": [
    "# Lesson 3 Practice: Pandas Part 1\n",
    "\n",
    "Use this notebook to follow along with the lesson in the corresponding lesson notebook: [L03-Pandas_Part1-Lesson.ipynb](./L03-Pandas_Part1-Lesson.ipynb).  "
   ]
  },
  {
   "cell_type": "markdown",
   "metadata": {},
   "source": [
    "## Instructions\n",
    "Follow along with the teaching material in the lesson. Throughout the tutorial sections labeled as \"Tasks\" are interspersed and indicated with the icon: ![Task](http://icons.iconarchive.com/icons/sbstnblnd/plateau/16/Apps-gnome-info-icon.png). You should follow the instructions provided in these sections by performing them in the practice notebook.  When the tutorial is completed you can turn in the final practice notebook. For each task, use the cell below it to write and test your code.  You may add additional cells for any task as needed or desired.  "
   ]
  },
  {
   "cell_type": "markdown",
   "metadata": {},
   "source": [
    "## Task 1a: Setup\n",
    "\n",
    "+ `numpy` as `np`\n",
    "+ `pandas` as `pd`\n"
   ]
  },
  {
   "cell_type": "code",
   "execution_count": 1,
   "metadata": {},
   "outputs": [],
   "source": [
    "import numpy as np\n",
    "import pandas as pd"
   ]
  },
  {
   "cell_type": "markdown",
   "metadata": {},
   "source": [
    "## Task 2a Create a `pd.Series` object\n",
    "\n",
    "+ Create a series of your own design."
   ]
  },
  {
   "cell_type": "code",
   "execution_count": 2,
   "metadata": {},
   "outputs": [
    {
     "data": {
      "text/plain": [
       "0     1\n",
       "1     2\n",
       "2     3\n",
       "3     4\n",
       "4     5\n",
       "5     6\n",
       "6     7\n",
       "7     8\n",
       "8     9\n",
       "9    10\n",
       "dtype: int64"
      ]
     },
     "execution_count": 2,
     "metadata": {},
     "output_type": "execute_result"
    }
   ],
   "source": [
    "pd.Series([1,2,3,4,5,6,7,8,9,10])"
   ]
  },
  {
   "cell_type": "markdown",
   "metadata": {},
   "source": [
    "## Task 2b: Creating a DataFrame\n",
    "\n",
    "+ Create a pd.DataFrame object from a Python dictionary. Design the data as you like."
   ]
  },
  {
   "cell_type": "code",
   "execution_count": 3,
   "metadata": {},
   "outputs": [
    {
     "data": {
      "text/html": [
       "<div>\n",
       "<style scoped>\n",
       "    .dataframe tbody tr th:only-of-type {\n",
       "        vertical-align: middle;\n",
       "    }\n",
       "\n",
       "    .dataframe tbody tr th {\n",
       "        vertical-align: top;\n",
       "    }\n",
       "\n",
       "    .dataframe thead th {\n",
       "        text-align: right;\n",
       "    }\n",
       "</style>\n",
       "<table border=\"1\" class=\"dataframe\">\n",
       "  <thead>\n",
       "    <tr style=\"text-align: right;\">\n",
       "      <th></th>\n",
       "      <th>Cats</th>\n",
       "      <th>Dogs</th>\n",
       "      <th>Birds</th>\n",
       "      <th>Hamsters</th>\n",
       "    </tr>\n",
       "  </thead>\n",
       "  <tbody>\n",
       "    <tr>\n",
       "      <td>0</td>\n",
       "      <td>1</td>\n",
       "      <td>2</td>\n",
       "      <td>1</td>\n",
       "      <td>0</td>\n",
       "    </tr>\n",
       "    <tr>\n",
       "      <td>1</td>\n",
       "      <td>2</td>\n",
       "      <td>2</td>\n",
       "      <td>3</td>\n",
       "      <td>1</td>\n",
       "    </tr>\n",
       "    <tr>\n",
       "      <td>2</td>\n",
       "      <td>3</td>\n",
       "      <td>2</td>\n",
       "      <td>2</td>\n",
       "      <td>2</td>\n",
       "    </tr>\n",
       "    <tr>\n",
       "      <td>3</td>\n",
       "      <td>4</td>\n",
       "      <td>2</td>\n",
       "      <td>1</td>\n",
       "      <td>3</td>\n",
       "    </tr>\n",
       "  </tbody>\n",
       "</table>\n",
       "</div>"
      ],
      "text/plain": [
       "   Cats  Dogs  Birds  Hamsters\n",
       "0     1     2      1         0\n",
       "1     2     2      3         1\n",
       "2     3     2      2         2\n",
       "3     4     2      1         3"
      ]
     },
     "execution_count": 3,
     "metadata": {},
     "output_type": "execute_result"
    }
   ],
   "source": [
    "pd.DataFrame({'Cats':[1,2,3,4],'Dogs':[2,2,2,2],'Birds':[1,3,2,1],'Hamsters':[0,1,2,3]})"
   ]
  },
  {
   "cell_type": "markdown",
   "metadata": {},
   "source": [
    "## Task 2c: Create DataFrame with labels\n",
    "\n",
    "+ Create a 10x5 dataframe of random numeric integers that follow a [Guassian (normal) Distribution](https://docs.scipy.org/doc/numpy-1.15.0/reference/generated/numpy.random.normal.html). \n",
    "  + Center the distrubtion at 0.85.\n",
    "  + We will use these values as assumed grades for a class of students\n",
    "+ Adjust the row indexes to be the names of hypothetical students.\n",
    "+ Adjust the columsn to be the names of hypothetical projects, homework, exam names, etc."
   ]
  },
  {
   "cell_type": "code",
   "execution_count": 4,
   "metadata": {},
   "outputs": [
    {
     "data": {
      "text/html": [
       "<div>\n",
       "<style scoped>\n",
       "    .dataframe tbody tr th:only-of-type {\n",
       "        vertical-align: middle;\n",
       "    }\n",
       "\n",
       "    .dataframe tbody tr th {\n",
       "        vertical-align: top;\n",
       "    }\n",
       "\n",
       "    .dataframe thead th {\n",
       "        text-align: right;\n",
       "    }\n",
       "</style>\n",
       "<table border=\"1\" class=\"dataframe\">\n",
       "  <thead>\n",
       "    <tr style=\"text-align: right;\">\n",
       "      <th></th>\n",
       "      <th>Homework1</th>\n",
       "      <th>Homework2</th>\n",
       "      <th>Homework3</th>\n",
       "      <th>Final_Project</th>\n",
       "      <th>Test1</th>\n",
       "    </tr>\n",
       "  </thead>\n",
       "  <tbody>\n",
       "    <tr>\n",
       "      <td>Marry</td>\n",
       "      <td>0.843642</td>\n",
       "      <td>0.794874</td>\n",
       "      <td>0.863277</td>\n",
       "      <td>0.849661</td>\n",
       "      <td>0.872296</td>\n",
       "    </tr>\n",
       "    <tr>\n",
       "      <td>Tom</td>\n",
       "      <td>0.842704</td>\n",
       "      <td>0.782841</td>\n",
       "      <td>0.811516</td>\n",
       "      <td>0.775736</td>\n",
       "      <td>0.933323</td>\n",
       "    </tr>\n",
       "    <tr>\n",
       "      <td>Bryan</td>\n",
       "      <td>0.854390</td>\n",
       "      <td>0.903064</td>\n",
       "      <td>0.895891</td>\n",
       "      <td>0.902856</td>\n",
       "      <td>0.783341</td>\n",
       "    </tr>\n",
       "    <tr>\n",
       "      <td>Sara</td>\n",
       "      <td>0.918065</td>\n",
       "      <td>0.806980</td>\n",
       "      <td>0.903671</td>\n",
       "      <td>0.845587</td>\n",
       "      <td>0.850702</td>\n",
       "    </tr>\n",
       "    <tr>\n",
       "      <td>Tiffany</td>\n",
       "      <td>0.810249</td>\n",
       "      <td>0.819161</td>\n",
       "      <td>0.890629</td>\n",
       "      <td>0.771108</td>\n",
       "      <td>0.929143</td>\n",
       "    </tr>\n",
       "    <tr>\n",
       "      <td>Shaun</td>\n",
       "      <td>0.839266</td>\n",
       "      <td>0.888047</td>\n",
       "      <td>0.784423</td>\n",
       "      <td>0.831638</td>\n",
       "      <td>0.843258</td>\n",
       "    </tr>\n",
       "    <tr>\n",
       "      <td>Abigail</td>\n",
       "      <td>0.846384</td>\n",
       "      <td>0.870085</td>\n",
       "      <td>0.825941</td>\n",
       "      <td>0.873916</td>\n",
       "      <td>0.909162</td>\n",
       "    </tr>\n",
       "    <tr>\n",
       "      <td>Zane</td>\n",
       "      <td>0.794282</td>\n",
       "      <td>0.877964</td>\n",
       "      <td>0.905328</td>\n",
       "      <td>0.887326</td>\n",
       "      <td>0.954762</td>\n",
       "    </tr>\n",
       "    <tr>\n",
       "      <td>Pete</td>\n",
       "      <td>0.846600</td>\n",
       "      <td>0.793159</td>\n",
       "      <td>0.844397</td>\n",
       "      <td>0.827525</td>\n",
       "      <td>0.895164</td>\n",
       "    </tr>\n",
       "    <tr>\n",
       "      <td>Missy</td>\n",
       "      <td>0.817669</td>\n",
       "      <td>0.875190</td>\n",
       "      <td>0.778780</td>\n",
       "      <td>0.871483</td>\n",
       "      <td>0.893004</td>\n",
       "    </tr>\n",
       "  </tbody>\n",
       "</table>\n",
       "</div>"
      ],
      "text/plain": [
       "         Homework1  Homework2  Homework3  Final_Project     Test1\n",
       "Marry     0.843642   0.794874   0.863277       0.849661  0.872296\n",
       "Tom       0.842704   0.782841   0.811516       0.775736  0.933323\n",
       "Bryan     0.854390   0.903064   0.895891       0.902856  0.783341\n",
       "Sara      0.918065   0.806980   0.903671       0.845587  0.850702\n",
       "Tiffany   0.810249   0.819161   0.890629       0.771108  0.929143\n",
       "Shaun     0.839266   0.888047   0.784423       0.831638  0.843258\n",
       "Abigail   0.846384   0.870085   0.825941       0.873916  0.909162\n",
       "Zane      0.794282   0.877964   0.905328       0.887326  0.954762\n",
       "Pete      0.846600   0.793159   0.844397       0.827525  0.895164\n",
       "Missy     0.817669   0.875190   0.778780       0.871483  0.893004"
      ]
     },
     "execution_count": 4,
     "metadata": {},
     "output_type": "execute_result"
    }
   ],
   "source": [
    "Students=pd.Series(['Marry','Tom','Bryan','Sara','Tiffany','Shaun','Abigail','Zane','Pete','Missy'])\n",
    "Assignments=pd.Series(['Homework1','Homework2','Homework3','Final_Project','Test1'])\n",
    "#Have to set scale otherwise you will have grades over 100% and below 0%\n",
    "Grades=pd.DataFrame(np.random.normal(loc=0.85,scale=0.05,size=(10,5)),index=Students,columns=Assignments)\n",
    "Grades"
   ]
  },
  {
   "cell_type": "markdown",
   "metadata": {},
   "source": [
    "## Task 3a: Import the iris.csv file\n",
    "\n",
    "+ Import the iris dataset.\n",
    "+ Take a look at the `pd.read_csv` online documentation. Write example code in a Markup cell for how you would import this file if it were tab-delimited."
   ]
  },
  {
   "cell_type": "code",
   "execution_count": 5,
   "metadata": {},
   "outputs": [
    {
     "data": {
      "text/html": [
       "<div>\n",
       "<style scoped>\n",
       "    .dataframe tbody tr th:only-of-type {\n",
       "        vertical-align: middle;\n",
       "    }\n",
       "\n",
       "    .dataframe tbody tr th {\n",
       "        vertical-align: top;\n",
       "    }\n",
       "\n",
       "    .dataframe thead th {\n",
       "        text-align: right;\n",
       "    }\n",
       "</style>\n",
       "<table border=\"1\" class=\"dataframe\">\n",
       "  <thead>\n",
       "    <tr style=\"text-align: right;\">\n",
       "      <th></th>\n",
       "      <th>sepal_length</th>\n",
       "      <th>sepal_width</th>\n",
       "      <th>petal_length</th>\n",
       "      <th>petal_width</th>\n",
       "      <th>species</th>\n",
       "    </tr>\n",
       "  </thead>\n",
       "  <tbody>\n",
       "    <tr>\n",
       "      <td>0</td>\n",
       "      <td>5.1</td>\n",
       "      <td>3.5</td>\n",
       "      <td>1.4</td>\n",
       "      <td>0.2</td>\n",
       "      <td>setosa</td>\n",
       "    </tr>\n",
       "    <tr>\n",
       "      <td>1</td>\n",
       "      <td>4.9</td>\n",
       "      <td>3.0</td>\n",
       "      <td>1.4</td>\n",
       "      <td>0.2</td>\n",
       "      <td>setosa</td>\n",
       "    </tr>\n",
       "    <tr>\n",
       "      <td>2</td>\n",
       "      <td>4.7</td>\n",
       "      <td>3.2</td>\n",
       "      <td>1.3</td>\n",
       "      <td>0.2</td>\n",
       "      <td>setosa</td>\n",
       "    </tr>\n",
       "    <tr>\n",
       "      <td>3</td>\n",
       "      <td>4.6</td>\n",
       "      <td>3.1</td>\n",
       "      <td>1.5</td>\n",
       "      <td>0.2</td>\n",
       "      <td>setosa</td>\n",
       "    </tr>\n",
       "    <tr>\n",
       "      <td>4</td>\n",
       "      <td>5.0</td>\n",
       "      <td>3.6</td>\n",
       "      <td>1.4</td>\n",
       "      <td>0.2</td>\n",
       "      <td>setosa</td>\n",
       "    </tr>\n",
       "    <tr>\n",
       "      <td>...</td>\n",
       "      <td>...</td>\n",
       "      <td>...</td>\n",
       "      <td>...</td>\n",
       "      <td>...</td>\n",
       "      <td>...</td>\n",
       "    </tr>\n",
       "    <tr>\n",
       "      <td>145</td>\n",
       "      <td>6.7</td>\n",
       "      <td>3.0</td>\n",
       "      <td>5.2</td>\n",
       "      <td>2.3</td>\n",
       "      <td>virginica</td>\n",
       "    </tr>\n",
       "    <tr>\n",
       "      <td>146</td>\n",
       "      <td>6.3</td>\n",
       "      <td>2.5</td>\n",
       "      <td>5.0</td>\n",
       "      <td>1.9</td>\n",
       "      <td>virginica</td>\n",
       "    </tr>\n",
       "    <tr>\n",
       "      <td>147</td>\n",
       "      <td>6.5</td>\n",
       "      <td>3.0</td>\n",
       "      <td>5.2</td>\n",
       "      <td>2.0</td>\n",
       "      <td>virginica</td>\n",
       "    </tr>\n",
       "    <tr>\n",
       "      <td>148</td>\n",
       "      <td>6.2</td>\n",
       "      <td>3.4</td>\n",
       "      <td>5.4</td>\n",
       "      <td>2.3</td>\n",
       "      <td>virginica</td>\n",
       "    </tr>\n",
       "    <tr>\n",
       "      <td>149</td>\n",
       "      <td>5.9</td>\n",
       "      <td>3.0</td>\n",
       "      <td>5.1</td>\n",
       "      <td>1.8</td>\n",
       "      <td>virginica</td>\n",
       "    </tr>\n",
       "  </tbody>\n",
       "</table>\n",
       "<p>150 rows × 5 columns</p>\n",
       "</div>"
      ],
      "text/plain": [
       "     sepal_length  sepal_width  petal_length  petal_width    species\n",
       "0             5.1          3.5           1.4          0.2     setosa\n",
       "1             4.9          3.0           1.4          0.2     setosa\n",
       "2             4.7          3.2           1.3          0.2     setosa\n",
       "3             4.6          3.1           1.5          0.2     setosa\n",
       "4             5.0          3.6           1.4          0.2     setosa\n",
       "..            ...          ...           ...          ...        ...\n",
       "145           6.7          3.0           5.2          2.3  virginica\n",
       "146           6.3          2.5           5.0          1.9  virginica\n",
       "147           6.5          3.0           5.2          2.0  virginica\n",
       "148           6.2          3.4           5.4          2.3  virginica\n",
       "149           5.9          3.0           5.1          1.8  virginica\n",
       "\n",
       "[150 rows x 5 columns]"
      ]
     },
     "execution_count": 5,
     "metadata": {},
     "output_type": "execute_result"
    }
   ],
   "source": [
    "iris=pd.read_csv('iris.xls')\n",
    "iris"
   ]
  },
  {
   "cell_type": "markdown",
   "metadata": {},
   "source": [
    "pd.read_csv(file_name,delimiter='\\t')"
   ]
  },
  {
   "cell_type": "markdown",
   "metadata": {},
   "source": [
    "## Task 4a: Explore Data\n",
    "\n",
    " + Use `head`, `tail` and `sample` with the iris dataset.\n",
    " + Do the same with the dataset you created in task 2c."
   ]
  },
  {
   "cell_type": "code",
   "execution_count": 6,
   "metadata": {},
   "outputs": [
    {
     "name": "stdout",
     "output_type": "stream",
     "text": [
      "********************\n",
      "Iris\n",
      "********************\n",
      "Head\n",
      "   sepal_length  sepal_width  petal_length  petal_width species\n",
      "0           5.1          3.5           1.4          0.2  setosa\n",
      "1           4.9          3.0           1.4          0.2  setosa\n",
      "2           4.7          3.2           1.3          0.2  setosa\n",
      "3           4.6          3.1           1.5          0.2  setosa\n",
      "4           5.0          3.6           1.4          0.2  setosa\n",
      "Tail\n",
      "     sepal_length  sepal_width  petal_length  petal_width    species\n",
      "145           6.7          3.0           5.2          2.3  virginica\n",
      "146           6.3          2.5           5.0          1.9  virginica\n",
      "147           6.5          3.0           5.2          2.0  virginica\n",
      "148           6.2          3.4           5.4          2.3  virginica\n",
      "149           5.9          3.0           5.1          1.8  virginica\n",
      "Sample\n",
      "    sepal_length  sepal_width  petal_length  petal_width     species\n",
      "79           5.7          2.6           3.5          1.0  versicolor\n",
      "********************\n",
      "Grades\n",
      "********************\n",
      "Head\n",
      "         Homework1  Homework2  Homework3  Final_Project     Test1\n",
      "Marry     0.843642   0.794874   0.863277       0.849661  0.872296\n",
      "Tom       0.842704   0.782841   0.811516       0.775736  0.933323\n",
      "Bryan     0.854390   0.903064   0.895891       0.902856  0.783341\n",
      "Sara      0.918065   0.806980   0.903671       0.845587  0.850702\n",
      "Tiffany   0.810249   0.819161   0.890629       0.771108  0.929143\n",
      "Tail\n",
      "         Homework1  Homework2  Homework3  Final_Project     Test1\n",
      "Shaun     0.839266   0.888047   0.784423       0.831638  0.843258\n",
      "Abigail   0.846384   0.870085   0.825941       0.873916  0.909162\n",
      "Zane      0.794282   0.877964   0.905328       0.887326  0.954762\n",
      "Pete      0.846600   0.793159   0.844397       0.827525  0.895164\n",
      "Missy     0.817669   0.875190   0.778780       0.871483  0.893004\n",
      "Sample\n",
      "     Homework1  Homework2  Homework3  Final_Project     Test1\n",
      "Tom   0.842704   0.782841   0.811516       0.775736  0.933323\n"
     ]
    }
   ],
   "source": [
    "print('*'*20)\n",
    "print('Iris')\n",
    "print('*'*20)\n",
    "print('Head')\n",
    "print(iris.head())\n",
    "print('Tail')\n",
    "print(iris.tail())\n",
    "print('Sample')\n",
    "print(iris.sample()) #Selects a random sample to display\n",
    "#Can insert a number into any of these variables to declare the number of lines to print\n",
    "#i.e. .sample(10) would print 10 random samples\n",
    "print('*'*20)\n",
    "print('Grades')\n",
    "print('*'*20)\n",
    "print('Head')\n",
    "print(Grades.head())\n",
    "print('Tail')\n",
    "print(Grades.tail())\n",
    "print('Sample')\n",
    "print(Grades.sample())"
   ]
  },
  {
   "cell_type": "markdown",
   "metadata": {},
   "source": [
    "## Task 5a: Viewing columns and rows\n",
    "\n",
    "+ Display the columns and indexes of the iris dataset.\n",
    "+ Do the same with the dataset you created in Task 2c."
   ]
  },
  {
   "cell_type": "code",
   "execution_count": 7,
   "metadata": {},
   "outputs": [
    {
     "name": "stdout",
     "output_type": "stream",
     "text": [
      "********************\n",
      "Iris\n",
      "********************\n",
      "Index(['sepal_length', 'sepal_width', 'petal_length', 'petal_width',\n",
      "       'species'],\n",
      "      dtype='object')\n",
      "RangeIndex(start=0, stop=150, step=1)\n",
      "********************\n",
      "Grades\n",
      "********************\n",
      "Index(['Homework1', 'Homework2', 'Homework3', 'Final_Project', 'Test1'], dtype='object')\n",
      "Index(['Marry', 'Tom', 'Bryan', 'Sara', 'Tiffany', 'Shaun', 'Abigail', 'Zane',\n",
      "       'Pete', 'Missy'],\n",
      "      dtype='object')\n"
     ]
    }
   ],
   "source": [
    "print('*'*20)\n",
    "print('Iris')\n",
    "print('*'*20)\n",
    "print(iris.columns)\n",
    "print(iris.index)\n",
    "print('*'*20)\n",
    "print('Grades')\n",
    "print('*'*20)\n",
    "print(Grades.columns)\n",
    "print(Grades.index)"
   ]
  },
  {
   "cell_type": "markdown",
   "metadata": {},
   "source": [
    "## Task 5b: Get Values\n",
    "\n",
    "+ Check the version of `pandas` you have \n",
    "+ Use the appropriate method to convert the iris data to a dictionary.\n",
    "+ Do the same with the dataset you created in Task 2c.\n"
   ]
  },
  {
   "cell_type": "code",
   "execution_count": 8,
   "metadata": {},
   "outputs": [
    {
     "name": "stdout",
     "output_type": "stream",
     "text": [
      "0.25.1\n"
     ]
    }
   ],
   "source": [
    "print(pd.__version__)\n",
    "iris_dict=iris.to_dict()\n",
    "grade_dict=Grades.to_dict()"
   ]
  },
  {
   "cell_type": "markdown",
   "metadata": {},
   "source": [
    "## Task 5c: Using `loc`\n",
    "\n",
    "+ Use any iris dataframe to:\n",
    "  + Select a row slice with `loc`.\n",
    "  + Select a row and column slice with `loc`.\n",
    "  + Take a look at the [Pandas documentation for the `at` selector](https://pandas.pydata.org/pandas-docs/stable/reference/api/pandas.DataFrame.at.html). Use what you learn there to select a single item with Pandas `at` accessor."
   ]
  },
  {
   "cell_type": "code",
   "execution_count": 22,
   "metadata": {},
   "outputs": [
    {
     "name": "stdout",
     "output_type": "stream",
     "text": [
      "   sepal_length  sepal_width  petal_length  petal_width species\n",
      "0           5.1          3.5           1.4          0.2  setosa\n",
      "1           4.9          3.0           1.4          0.2  setosa\n",
      "2           4.7          3.2           1.3          0.2  setosa\n",
      "********************\n",
      "   petal_length  petal_width species\n",
      "1           1.4          0.2  setosa\n",
      "2           1.3          0.2  setosa\n",
      "3           1.5          0.2  setosa\n",
      "4           1.4          0.2  setosa\n",
      "********************\n",
      "3.5\n"
     ]
    }
   ],
   "source": [
    "print(iris.loc[0:2])\n",
    "print('*'*20)\n",
    "print(iris.loc[1:4,\"petal_length\":])\n",
    "print('*'*20)\n",
    "print(iris.at[60,'petal_length'])"
   ]
  },
  {
   "cell_type": "markdown",
   "metadata": {},
   "source": [
    "## Task 5d: Using `iloc`\n",
    "\n",
    "+ Use any iris dataframe to:    \n",
    "    + Select a row slice with `iloc`.\n",
    "    + Select a row and column slice with `iloc`.\n",
    "    + Take a look at the [Pandas documentation for the `iat` selector](https://pandas.pydata.org/pandas-docs/stable/reference/api/pandas.DataFrame.iat.html). Use what you learn there to select a single item with Pandas `iat` accessor.\n",
    "\n"
   ]
  },
  {
   "cell_type": "code",
   "execution_count": 28,
   "metadata": {},
   "outputs": [
    {
     "name": "stdout",
     "output_type": "stream",
     "text": [
      "sepal_length       5.4\n",
      "sepal_width        3.4\n",
      "petal_length       1.7\n",
      "petal_width        0.2\n",
      "species         setosa\n",
      "Name: 20, dtype: object\n",
      "********************\n",
      "   petal_length  petal_width\n",
      "3           1.5          0.2\n",
      "4           1.4          0.2\n",
      "5           1.7          0.4\n",
      "********************\n",
      "1.0\n"
     ]
    }
   ],
   "source": [
    "print(iris.iloc[20])\n",
    "print('*'*20)\n",
    "print(iris.iloc[3:6,2:4])\n",
    "print('*'*20)\n",
    "print(iris.iat[22,2])"
   ]
  },
  {
   "cell_type": "markdown",
   "metadata": {},
   "source": [
    "## Task 5e: Boolean Indexing\n",
    "\n",
    "+ Create subsets of the iris dataset using boolean indexes that:\n",
    "    + Use one boolean operator.\n",
    "    + Use two boolean operators.\n",
    "\n"
   ]
  },
  {
   "cell_type": "code",
   "execution_count": 48,
   "metadata": {},
   "outputs": [
    {
     "name": "stdout",
     "output_type": "stream",
     "text": [
      "    sepal_length  sepal_width  petal_length  petal_width species\n",
      "5            5.4          3.9           1.7          0.4  setosa\n",
      "11           4.8          3.4           1.6          0.2  setosa\n",
      "18           5.7          3.8           1.7          0.3  setosa\n",
      "20           5.4          3.4           1.7          0.2  setosa\n",
      "23           5.1          3.3           1.7          0.5  setosa\n",
      "***************************************************************************\n",
      "    sepal_length  sepal_width  petal_length  petal_width species\n",
      "11           4.8          3.4           1.6          0.2  setosa\n",
      "20           5.4          3.4           1.7          0.2  setosa\n",
      "24           4.8          3.4           1.9          0.2  setosa\n",
      "25           5.0          3.0           1.6          0.2  setosa\n",
      "29           4.7          3.2           1.6          0.2  setosa\n"
     ]
    }
   ],
   "source": [
    "OneBoo=iris['petal_length']>1.5\n",
    "print(iris[OneBoo].head())\n",
    "print('*'*75)\n",
    "TwoBoo=(iris['petal_length']>1.5) & (iris['petal_width']<0.3)\n",
    "print(iris[TwoBoo].head())"
   ]
  },
  {
   "cell_type": "code",
   "execution_count": null,
   "metadata": {},
   "outputs": [],
   "source": []
  }
 ],
 "metadata": {
  "kernelspec": {
   "display_name": "Python 3",
   "language": "python",
   "name": "python3"
  },
  "language_info": {
   "codemirror_mode": {
    "name": "ipython",
    "version": 3
   },
   "file_extension": ".py",
   "mimetype": "text/x-python",
   "name": "python",
   "nbconvert_exporter": "python",
   "pygments_lexer": "ipython3",
   "version": "3.7.4"
  }
 },
 "nbformat": 4,
 "nbformat_minor": 4
}
