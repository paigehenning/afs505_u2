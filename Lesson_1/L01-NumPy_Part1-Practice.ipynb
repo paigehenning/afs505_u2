{
 "cells": [
  {
   "cell_type": "markdown",
   "metadata": {},
   "source": [
    "# Lesson 1 Practice: NumPy Part 1\n",
    "Use this notebook to follow along with the lesson in the corresponding lesson notebook: [L01-Numpy_Part1-Lesson.ipynb](./L01-Numpy_Part1-Lesson.ipynb).  \n",
    "\n"
   ]
  },
  {
   "cell_type": "markdown",
   "metadata": {},
   "source": [
    "## Instructions\n",
    "Follow along with the teaching material in the lesson. Throughout the tutorial sections labeled as \"Tasks\" are interspersed and indicated with the icon: ![Task](http://icons.iconarchive.com/icons/sbstnblnd/plateau/16/Apps-gnome-info-icon.png). You should follow the instructions provided in these sections by performing them in the practice notebook.  When the tutorial is completed you can turn in the final practice notebook. For each task, use the cell below it to write and test your code.  You may add additional cells for any task as needed or desired.  "
   ]
  },
  {
   "cell_type": "markdown",
   "metadata": {},
   "source": [
    "## Task 1a: Setup\n",
    "\n",
    "In the practice notebook, import the following packages:\n",
    "+ `numpy` as `np`"
   ]
  },
  {
   "cell_type": "code",
   "execution_count": 1,
   "metadata": {},
   "outputs": [],
   "source": [
    "import numpy as np"
   ]
  },
  {
   "cell_type": "markdown",
   "metadata": {},
   "source": [
    "## Task 2a: Creating Arrays\n",
    "\n",
    "In the practice notebook, perform the following.  \n",
    "- Create a 1-dimensional numpy array and print it.\n",
    "- Create a 2-dimensional numpy array and print it.\n",
    "- Create a 3-dimensional numpy array and print it."
   ]
  },
  {
   "cell_type": "code",
   "execution_count": 2,
   "metadata": {},
   "outputs": [
    {
     "name": "stdout",
     "output_type": "stream",
     "text": [
      "[1 2 3]\n",
      "\n",
      "\n",
      "[[1 2 3]\n",
      " [4 5 6]]\n",
      "\n",
      "\n",
      "[[[ 1  2  3]\n",
      "  [ 4  5  6]]\n",
      "\n",
      " [[ 7  8  9]\n",
      "  [10 11 12]]]\n"
     ]
    }
   ],
   "source": [
    "OneD_array=np.array([1,2,3])\n",
    "twoD_array=np.array([[1,2,3],[4,5,6]])\n",
    "threeD_array=np.array([[[1,2,3],[4,5,6]],[[7,8,9],[10,11,12]]])\n",
    "print(OneD_array)\n",
    "print('\\n')\n",
    "print(twoD_array)\n",
    "print('\\n')\n",
    "print(threeD_array)"
   ]
  },
  {
   "cell_type": "markdown",
   "metadata": {},
   "source": [
    "## Task 3a: Accessing Array Attributes\n",
    "\n",
    "In the practice notebook, perform the following.\n",
    "\n",
    "- Create a NumPy array.\n",
    "- Write code that prints these attributes (one per line): `ndim`, `shape`, `size`, `dtype`, `itemsize`, `data`, `nbytes`.\n",
    "- Add a comment line, before each line describing what value the attribute returns. \n"
   ]
  },
  {
   "cell_type": "code",
   "execution_count": 3,
   "metadata": {},
   "outputs": [
    {
     "name": "stdout",
     "output_type": "stream",
     "text": [
      "2\n",
      "(2, 3)\n",
      "6\n",
      "int32\n",
      "4\n",
      "<memory at 0x0000023522D8BF28>\n",
      "24\n"
     ]
    }
   ],
   "source": [
    "NumPy_array=np.array([[2,4,16],[3,9,81]])\n",
    "#I plagiarized some of these comments from the NumPy reference page \n",
    "#number of array dimensions\n",
    "print(NumPy_array.ndim)\n",
    "#Dimminsions of the array the above is a 2x3\n",
    "print(NumPy_array.shape)\n",
    "#Number of items in array\n",
    "print(NumPy_array.size)\n",
    "#What the data type is, for example these are integers \n",
    "print(NumPy_array.dtype)\n",
    "#Length of one array element in bytes.\n",
    "print(NumPy_array.itemsize)\n",
    "#Python buffer object pointing to the start of the array’s data.\n",
    "print(NumPy_array.data)\n",
    "#Total bytes consumed by the elements of the array.\n",
    "print(NumPy_array.nbytes)"
   ]
  },
  {
   "cell_type": "markdown",
   "metadata": {},
   "source": [
    "## Task 4a: Initializing Arrays\n",
    "\n",
    "In the practice notebook, perform the following.\n",
    "\n",
    "+ Create an initialized array by using these functions:  `ones`, `zeros`, `empty`, `full`, `arange`, `linspace` and `random.random`. Be sure to follow each array creation with a call to `print()` to display your newly created arrays. \n",
    "+ Add a comment above each function call describing what is being done.  "
   ]
  },
  {
   "cell_type": "code",
   "execution_count": 4,
   "metadata": {},
   "outputs": [
    {
     "name": "stdout",
     "output_type": "stream",
     "text": [
      "[[[1. 1.]\n",
      "  [1. 1.]\n",
      "  [1. 1.]]\n",
      "\n",
      " [[1. 1.]\n",
      "  [1. 1.]\n",
      "  [1. 1.]]\n",
      "\n",
      " [[1. 1.]\n",
      "  [1. 1.]\n",
      "  [1. 1.]]]\n",
      "\n",
      "\n",
      "[0. 0. 0. 0. 0. 0. 0. 0. 0. 0. 0. 0. 0. 0. 0. 0. 0. 0. 0. 0.]\n",
      "\n",
      "\n",
      "[[0. 0.]\n",
      " [0. 0.]\n",
      " [0. 0.]\n",
      " [0. 0.]\n",
      " [0. 0.]\n",
      " [0. 0.]\n",
      " [0. 0.]\n",
      " [0. 0.]\n",
      " [0. 0.]\n",
      " [0. 0.]]\n",
      "\n",
      "\n",
      "[[['cats' 'cats']\n",
      "  ['cats' 'cats']\n",
      "  ['cats' 'cats']\n",
      "  ['cats' 'cats']]\n",
      "\n",
      " [['cats' 'cats']\n",
      "  ['cats' 'cats']\n",
      "  ['cats' 'cats']\n",
      "  ['cats' 'cats']]\n",
      "\n",
      " [['cats' 'cats']\n",
      "  ['cats' 'cats']\n",
      "  ['cats' 'cats']\n",
      "  ['cats' 'cats']]]\n",
      "\n",
      "\n",
      "[1 4 7]\n",
      "\n",
      "\n",
      "[ 0.          0.20408163  0.40816327  0.6122449   0.81632653  1.02040816\n",
      "  1.2244898   1.42857143  1.63265306  1.83673469  2.04081633  2.24489796\n",
      "  2.44897959  2.65306122  2.85714286  3.06122449  3.26530612  3.46938776\n",
      "  3.67346939  3.87755102  4.08163265  4.28571429  4.48979592  4.69387755\n",
      "  4.89795918  5.10204082  5.30612245  5.51020408  5.71428571  5.91836735\n",
      "  6.12244898  6.32653061  6.53061224  6.73469388  6.93877551  7.14285714\n",
      "  7.34693878  7.55102041  7.75510204  7.95918367  8.16326531  8.36734694\n",
      "  8.57142857  8.7755102   8.97959184  9.18367347  9.3877551   9.59183673\n",
      "  9.79591837 10.        ]\n",
      "\n",
      "\n",
      "[0.65925874 0.39221261 0.71677747 0.68647307 0.17422388 0.81737964\n",
      " 0.20074503 0.16119141 0.95156081 0.08852668]\n"
     ]
    }
   ],
   "source": [
    "#creates an array of ones, the command below prints a 3D array \n",
    "print(np.ones((3,3,2)))\n",
    "print('\\n')\n",
    "#creates an array of zeros, the command below prints a 1D array \n",
    "print(np.zeros((20)))\n",
    "print('\\n')\n",
    "#creates an empty array, the command below prints a 2D array\n",
    "print(np.empty((10,2)))\n",
    "print('\\n')\n",
    "#creates an array full of whatever you provide\n",
    "#the command below prints a 3D array full of cats\n",
    "print(np.full((3,4,2),'cats'))\n",
    "print('\\n')\n",
    "#creates an array full of numbers counted according to the third number you provide\n",
    "print(np.arange(1,10,3))\n",
    "print('\\n')\n",
    "#creats an array full of numbers between the two supplies numbers that are evenly spaced\n",
    "print(np.linspace(0,10))\n",
    "print('\\n')\n",
    "#Generates a 1D array or single random number(s)\n",
    "print(np.random.random(10))"
   ]
  },
  {
   "cell_type": "markdown",
   "metadata": {},
   "source": [
    "## Task 5a:  Broadcasting Arrays\n",
    "\n",
    "In the practice notebook, perform the following.\n",
    "\n",
    "+ Create two arrays of differing sizes but compatible with broadcasting.\n",
    "+ Perform addition, multiplication and subtraction.\n",
    "+ Create two additional arrays of differing size that do not meet the rules for broadcasting and try a mathematical operation.  "
   ]
  },
  {
   "cell_type": "code",
   "execution_count": 5,
   "metadata": {},
   "outputs": [
    {
     "name": "stdout",
     "output_type": "stream",
     "text": [
      "[[ 0.51167466  0.4780744  -0.35522115  0.0491229  -0.32277182 -0.02376004\n",
      "   0.76686209  0.14030627  0.03884029  0.87905545]\n",
      " [ 0.36446156 -0.1934171  -0.06721571  0.0931061  -0.12667822 -0.6313844\n",
      "   0.72205296 -0.00201174 -0.1931555   0.31640611]]\n",
      "\n",
      "\n",
      "[[1.28430815 0.84167434 1.29702531 0.14480646 1.46887245 0.29547469\n",
      "  1.040873   1.18544569 1.02863829 1.07414379]\n",
      " [1.43152125 1.51316584 1.00901987 0.10082327 1.27277886 0.90309904\n",
      "  1.08568213 1.3277637  1.26063407 1.63679313]]\n",
      "\n",
      "\n",
      "[[3.46909119e-01 1.19965140e-01 3.89023148e-01 4.63896311e-03\n",
      "  5.13351160e-01 2.16851876e-02 1.23834780e-01 3.46398908e-01\n",
      "  2.64147040e-01 9.52615961e-02]\n",
      " [4.79105216e-01 5.63065170e-01 2.53400786e-01 3.74146661e-04\n",
      "  4.00979661e-01 1.04235406e-01 1.64336299e-01 4.40738099e-01\n",
      "  3.87972304e-01 6.44744733e-01]]\n",
      "\n",
      "\n",
      "\n",
      "\n"
     ]
    },
    {
     "ename": "ValueError",
     "evalue": "operands could not be broadcast together with shapes (2,) (3,3) ",
     "output_type": "error",
     "traceback": [
      "\u001b[1;31m---------------------------------------------------------------------------\u001b[0m",
      "\u001b[1;31mValueError\u001b[0m                                Traceback (most recent call last)",
      "\u001b[1;32m<ipython-input-5-dfe27a757777>\u001b[0m in \u001b[0;36m<module>\u001b[1;34m\u001b[0m\n\u001b[0;32m     10\u001b[0m \u001b[0marray_four\u001b[0m\u001b[1;33m=\u001b[0m\u001b[0mnp\u001b[0m\u001b[1;33m.\u001b[0m\u001b[0mrandom\u001b[0m\u001b[1;33m.\u001b[0m\u001b[0mrandom\u001b[0m\u001b[1;33m(\u001b[0m\u001b[1;33m(\u001b[0m\u001b[1;36m3\u001b[0m\u001b[1;33m,\u001b[0m\u001b[1;36m3\u001b[0m\u001b[1;33m)\u001b[0m\u001b[1;33m)\u001b[0m\u001b[1;33m\u001b[0m\u001b[1;33m\u001b[0m\u001b[0m\n\u001b[0;32m     11\u001b[0m \u001b[0mprint\u001b[0m\u001b[1;33m(\u001b[0m\u001b[1;34m'\\n'\u001b[0m\u001b[1;33m)\u001b[0m\u001b[1;33m\u001b[0m\u001b[1;33m\u001b[0m\u001b[0m\n\u001b[1;32m---> 12\u001b[1;33m \u001b[0mprint\u001b[0m\u001b[1;33m(\u001b[0m\u001b[0marray_three\u001b[0m\u001b[1;33m-\u001b[0m\u001b[0marray_four\u001b[0m\u001b[1;33m)\u001b[0m\u001b[1;33m\u001b[0m\u001b[1;33m\u001b[0m\u001b[0m\n\u001b[0m",
      "\u001b[1;31mValueError\u001b[0m: operands could not be broadcast together with shapes (2,) (3,3) "
     ]
    }
   ],
   "source": [
    "array_one=np.random.random((10))\n",
    "array_two=np.random.random((2,10))\n",
    "print(array_one-array_two)\n",
    "print('\\n')\n",
    "print(array_one+array_two)\n",
    "print('\\n')\n",
    "print(array_one*array_two)\n",
    "print('\\n')\n",
    "array_three=np.random.random((2))\n",
    "array_four=np.random.random((3,3))\n",
    "print('\\n')\n",
    "print(array_three-array_four)"
   ]
  },
  {
   "cell_type": "markdown",
   "metadata": {},
   "source": [
    "## Task 6a: Math/Stats Aggregate Functions\n",
    "\n",
    "In the practice notebook, perform the following.\n",
    "\n",
    "+ Create three to five arrays\n",
    "+ Experiment with each of the aggregation functions: `sum`, `minimum`, `maximum`, `cumsum`, `mean`, `np.corrcoef`, `np.std`, `np.var`. \n",
    "+ For each function call, add a comment line above it that describes what it does.  \n",
    "```\n"
   ]
  },
  {
   "cell_type": "code",
   "execution_count": 6,
   "metadata": {},
   "outputs": [
    {
     "name": "stdout",
     "output_type": "stream",
     "text": [
      "3.19892089265717\n",
      "\n",
      "\n",
      "[[0.74614954 0.48733947 0.35815415]\n",
      " [0.60208664 0.02614105 0.31638868]]\n",
      "\n",
      "\n",
      "[[0.81119553 0.64276772 0.97901606]\n",
      " [0.61906695 0.09001046 0.91518062]]\n",
      "\n",
      "\n",
      "[0.76379194 1.46133358 1.94333744 2.84201367 3.21268364 3.24181139\n",
      " 3.51992281 4.4495211  4.97616311 5.78705625 6.3602281  6.78347129]\n",
      "\n",
      "\n",
      "0.5652892741856526\n",
      "\n",
      "\n",
      "[[ 1.          0.7160409   0.67449319 -0.94967769  0.99936035  0.99956832]\n",
      " [ 0.7160409   1.         -0.03239853 -0.4613561   0.74054647  0.69522303]\n",
      " [ 0.67449319 -0.03239853  1.         -0.87180203  0.64765974  0.69589253]\n",
      " [-0.94967769 -0.4613561  -0.87180203  1.         -0.93786872 -0.95847032]\n",
      " [ 0.99936035  0.74054647  0.64765974 -0.93786872  1.          0.99787829]\n",
      " [ 0.99956832  0.69522303  0.69589253 -0.95847032  0.99787829  1.        ]]\n",
      "\n",
      "\n",
      "0.26370096727356757\n",
      "\n",
      "\n",
      "0.06953820014101514\n"
     ]
    }
   ],
   "source": [
    "array_one=np.random.random((2,3))\n",
    "array_two=np.random.random((2,3))\n",
    "array_three=np.random.random((2,6))\n",
    "array_four=np.random.random((6,3))\n",
    "array_five=np.random.random((10,6))\n",
    "#sums the array's elements\n",
    "print(np.sum(array_one))\n",
    "print('\\n')\n",
    "#Creates an array of min values after comparing each element of two arrays\n",
    "print(np.minimum(array_one,array_two))\n",
    "print('\\n')\n",
    "#Creates an array of max values after comparing each element of two arrays\n",
    "print(np.maximum(array_one,array_two))\n",
    "print('\\n')\n",
    "#Creats an array where each element is equal to all prior elements + that element\n",
    "print(np.cumsum(array_three))\n",
    "print('\\n')\n",
    "#calculates the mean of a array\n",
    "print(np.mean(array_three))\n",
    "print('\\n')\n",
    "#prints the pearson product-moment correlation coefficent \n",
    "print(np.corrcoef(array_four))\n",
    "print('\\n')\n",
    "#calculates the standard dev\n",
    "print(np.std(array_five))\n",
    "print('\\n')\n",
    "#calculates the variance \n",
    "print(np.var(array_five))"
   ]
  },
  {
   "cell_type": "markdown",
   "metadata": {},
   "source": [
    "## Task 6b: Logical Aggregate Functions\n",
    "\n",
    "In the practice notebook, perform the following.\n",
    "\n",
    "+ Create two arrays containing boolean values.\n",
    "+ Experiment with each of the aggregation functions: `logical_and`, `logical_or`, `logical_not`. \n",
    "+ For each function call, add a comment line above it that describes what it does.  \n",
    "```"
   ]
  },
  {
   "cell_type": "code",
   "execution_count": 7,
   "metadata": {},
   "outputs": [
    {
     "name": "stdout",
     "output_type": "stream",
     "text": [
      "[False False False False False  True]\n",
      "[ True  True  True False  True  True]\n",
      "[False False False  True  True False]\n",
      "[ True  True  True  True False False]\n"
     ]
    }
   ],
   "source": [
    "array1=[True, True, True, False, False, True]\n",
    "array2=[False, False, False, False, True, True]\n",
    "#checks to see if both elements of 2 arrays are true at a given spot\n",
    "print(np.logical_and(array1,array2))\n",
    "#checks to see if 1 of the two elements of 2 arrays are true at a given spot\n",
    "print(np.logical_or(array1,array2))\n",
    "#checks to see if an element in an array is false\n",
    "print(np.logical_not(array1))\n",
    "print(np.logical_not(array2))"
   ]
  },
  {
   "cell_type": "code",
   "execution_count": null,
   "metadata": {},
   "outputs": [],
   "source": []
  }
 ],
 "metadata": {
  "kernelspec": {
   "display_name": "Python 3",
   "language": "python",
   "name": "python3"
  },
  "language_info": {
   "codemirror_mode": {
    "name": "ipython",
    "version": 3
   },
   "file_extension": ".py",
   "mimetype": "text/x-python",
   "name": "python",
   "nbconvert_exporter": "python",
   "pygments_lexer": "ipython3",
   "version": "3.7.4"
  }
 },
 "nbformat": 4,
 "nbformat_minor": 4
}
