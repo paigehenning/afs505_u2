{
 "cells": [
  {
   "cell_type": "markdown",
   "metadata": {},
   "source": [
    "# Lesson 2 Practice: NumPy Part 2\n",
    "Use this notebook to follow along with the lesson in the corresponding lesson notebook: [L02-Numpy_Part2-Lesson.ipynb](./L02-Numpy_Part2-Lesson.ipynb).  \n"
   ]
  },
  {
   "cell_type": "markdown",
   "metadata": {},
   "source": [
    "## Instructions\n",
    "Follow along with the teaching material in the lesson. Throughout the tutorial sections labeled as \"Tasks\" are interspersed and indicated with the icon: ![Task](http://icons.iconarchive.com/icons/sbstnblnd/plateau/16/Apps-gnome-info-icon.png). You should follow the instructions provided in these sections by performing them in the practice notebook.  When the tutorial is completed you can turn in the final practice notebook. For each task, use the cell below it to write and test your code.  You may add additional cells for any task as needed or desired. "
   ]
  },
  {
   "cell_type": "markdown",
   "metadata": {},
   "source": [
    "## Task 1a: Setup\n",
    "\n",
    "In the practice notebook, import the following packages:\n",
    "+ `numpy` as `np`"
   ]
  },
  {
   "cell_type": "code",
   "execution_count": 1,
   "metadata": {},
   "outputs": [],
   "source": [
    "import numpy as np"
   ]
  },
  {
   "cell_type": "markdown",
   "metadata": {},
   "source": [
    "## Task 2a: Indexing by Subsetting and Slicing\n",
    "\n",
    "In the practice notebook perform the following:\n",
    "\n",
    "1. Create (or re-use) 3 arrays, each containing three dimensions.\n",
    "2. Slice each of these arrays so that:\n",
    "    + One element / number is returned.\n",
    "    + One dimension is returned.\n",
    "    + A subset of a dimension is returned.\n",
    "3. What is the difference between `[x:]` and `[x, ...]`? (hint, try each on high-dimension arrays).\n",
    "    \n",
    "*Exactly what you choose to return is not imporant at this point, the goal of this task is to train you so that if you are given an n-dimension NumPy array, you can write an index or slice that returns a subset of desired positions.*"
   ]
  },
  {
   "cell_type": "code",
   "execution_count": 20,
   "metadata": {},
   "outputs": [
    {
     "name": "stdout",
     "output_type": "stream",
     "text": [
      "***Array 1 - Return 1 element***\n",
      "0.6493785026575022\n",
      "***Array 2 - Return 1 element***\n",
      "0.4393374560429272\n",
      "***Array 3 - Return 1 element***\n",
      "0.37666567373127413\n",
      "***Array 1 - Return 1 dimension***\n",
      "[0.95649469 0.6493785  0.20425449 0.93694651]\n",
      "***Array 2 - Return 1 dimension***\n",
      "[0.0456164  0.203881   0.43933746]\n",
      "***Array 3 - Return 1 dimension***\n",
      "[0.0456164  0.203881   0.43933746]\n",
      "***Array 1 - Return 1 subset of a dimension***\n",
      "[0.95649469 0.6493785  0.20425449]\n",
      "***Array 2 - Return 1 subset of a dimension***\n",
      "[0.0456164 0.203881 ]\n",
      "***Array 3 - Return 1 subset of a dimension***\n",
      "[0.43933746]\n",
      "***Array 3 - using [3:]***\n",
      "[[[0.98277171 0.70106624 0.13444184 0.40222586]\n",
      "  [0.60702226 0.31703416 0.31216641 0.70954182]\n",
      "  [0.56358406 0.1801984  0.18274147 0.81664345]\n",
      "  [0.33495372 0.83104641 0.21408734 0.37666567]]]\n"
     ]
    }
   ],
   "source": [
    "Array1=np.random.random(((3,2,4)))\n",
    "Array2=np.random.random(((2,1,3)))\n",
    "Array3=np.random.random(((4,4,4)))\n",
    "print(\"***Array 1 - Return 1 element***\")\n",
    "print(Array1[1,1,1])\n",
    "print(\"***Array 2 - Return 1 element***\")\n",
    "print(Array2[1,0,2])\n",
    "print(\"***Array 3 - Return 1 element***\")\n",
    "print(Array3[-1,-1,-1])\n",
    "print(\"***Array 1 - Return 1 dimension***\")\n",
    "print(Array1[1,1,0:])\n",
    "print(\"***Array 2 - Return 1 dimension***\")\n",
    "print(Array2[1,0,0:])\n",
    "print(\"***Array 3 - Return 1 dimension***\")\n",
    "print(Array2[-1,-1,0:])\n",
    "print(\"***Array 1 - Return 1 subset of a dimension***\")\n",
    "print(Array1[1,1,0:3])\n",
    "print(\"***Array 2 - Return 1 subset of a dimension***\")\n",
    "print(Array2[1,0,0:2])\n",
    "print(\"***Array 3 - Return 1 subset of a dimension***\")\n",
    "print(Array2[-1,0:2,-1])\n",
    "print(\"***Array 3 - using [3:]***\")\n",
    "print(Array3[3:])\n",
    "### x: provides all the cells starting at x slice and continuing till the end\n",
    "## [x,...] will result in a specific slice, row and column\n"
   ]
  },
  {
   "cell_type": "markdown",
   "metadata": {},
   "source": [
    "## Task 3a: Boolean Indexing\n",
    "\n",
    "In the practice notebook perform the following:\n",
    "\n",
    "+ Experiment with the following boolean conditionals to generate boolean arrays for indexing:\n",
    "  + Greater than\n",
    "  + Less than\n",
    "  + Equals\n",
    "  + Combine two or more of the above with:\n",
    "      + or `|`\n",
    "      + and `&`\n",
    "\n",
    "You can create arrays or use existing ones"
   ]
  },
  {
   "cell_type": "code",
   "execution_count": 102,
   "metadata": {},
   "outputs": [
    {
     "name": "stdout",
     "output_type": "stream",
     "text": [
      "*****Basic logic test -- True/False*****\n",
      "[[[False False False False]\n",
      "  [False False False  True]]\n",
      "\n",
      " [[False False False False]\n",
      "  [False False False False]]\n",
      "\n",
      " [[False False False False]\n",
      "  [False False False False]]]\n",
      "\n",
      "*****Cells that pass the logic test*****\n",
      "*****Less than*****\n",
      "[0.0178004]\n",
      "\n",
      "*****Greater than*****\n",
      "[0.74185726 0.84984373 0.88245372 0.90004073 0.97401977 0.97199157\n",
      " 0.78457672 0.70802968 0.77257099 0.77894259 0.74362254 0.7558689\n",
      " 0.95891373 0.88288187 0.90956063 0.97330802 0.7847732  0.93781752\n",
      " 0.98277171 0.70106624 0.70954182 0.81664345 0.83104641]\n",
      "\n",
      "*****Equals -- True/False because they're all false*****\n",
      "[[[False False False False]\n",
      "  [False False False False]]\n",
      "\n",
      " [[False False False False]\n",
      "  [False False False False]]\n",
      "\n",
      " [[False False False False]\n",
      "  [False False False False]]]\n",
      "\n",
      "*****Less than 0.7 but greater than 0.5\n"
     ]
    },
    {
     "data": {
      "text/plain": [
       "array([0.64782548, 0.673572  , 0.63435872, 0.600368  , 0.59456631,\n",
       "       0.52991204, 0.66531116, 0.51171062, 0.60702226, 0.56358406])"
      ]
     },
     "execution_count": 102,
     "metadata": {},
     "output_type": "execute_result"
    }
   ],
   "source": [
    "print(\"*****Basic logic test -- True/False*****\")\n",
    "print(Array1<0.05)\n",
    "print()\n",
    "print(\"*****Cells that pass the logic test*****\")\n",
    "print('*****Less than*****')\n",
    "print(Array1[Array1<0.05])\n",
    "print()\n",
    "print('*****Greater than*****')\n",
    "print(Array3[Array3>0.7])\n",
    "print()\n",
    "print('*****Equals -- True/False because they\\'re all false*****')\n",
    "print(Array1==0.1)\n",
    "print()\n",
    "print('*****Less than 0.7 but greater than 0.5')\n",
    "Array3[(Array3>0.5) & (Array3<0.7)]"
   ]
  },
  {
   "cell_type": "markdown",
   "metadata": {},
   "source": [
    "## Task 4a: Getting Help\n",
    "\n",
    "In the practice notebook perform the following:\n",
    "\n",
    "+ In the code cell below, call `help()` on two of the following functions: `np.transpose()`, `np.reshape()`, `np.resize()`, `np.ravel()`, `np.append()`, `np.delete()`, `np.concatenate()`, `np.vstack()`, `np.hstack()`, `np.column_stack()`, `np.vsplit()`, `np.hsplit()` \n",
    "+ Respond to this question: Did you understand the help docuemntation? Could you use the function just by looking at what the help says about it?  "
   ]
  },
  {
   "cell_type": "code",
   "execution_count": 46,
   "metadata": {},
   "outputs": [
    {
     "name": "stdout",
     "output_type": "stream",
     "text": [
      "Help on function ravel in module numpy:\n",
      "\n",
      "ravel(a, order='C')\n",
      "    Return a contiguous flattened array.\n",
      "    \n",
      "    A 1-D array, containing the elements of the input, is returned.  A copy is\n",
      "    made only if needed.\n",
      "    \n",
      "    As of NumPy 1.10, the returned array will have the same type as the input\n",
      "    array. (for example, a masked array will be returned for a masked array\n",
      "    input)\n",
      "    \n",
      "    Parameters\n",
      "    ----------\n",
      "    a : array_like\n",
      "        Input array.  The elements in `a` are read in the order specified by\n",
      "        `order`, and packed as a 1-D array.\n",
      "    order : {'C','F', 'A', 'K'}, optional\n",
      "    \n",
      "        The elements of `a` are read using this index order. 'C' means\n",
      "        to index the elements in row-major, C-style order,\n",
      "        with the last axis index changing fastest, back to the first\n",
      "        axis index changing slowest.  'F' means to index the elements\n",
      "        in column-major, Fortran-style order, with the\n",
      "        first index changing fastest, and the last index changing\n",
      "        slowest. Note that the 'C' and 'F' options take no account of\n",
      "        the memory layout of the underlying array, and only refer to\n",
      "        the order of axis indexing.  'A' means to read the elements in\n",
      "        Fortran-like index order if `a` is Fortran *contiguous* in\n",
      "        memory, C-like order otherwise.  'K' means to read the\n",
      "        elements in the order they occur in memory, except for\n",
      "        reversing the data when strides are negative.  By default, 'C'\n",
      "        index order is used.\n",
      "    \n",
      "    Returns\n",
      "    -------\n",
      "    y : array_like\n",
      "        y is an array of the same subtype as `a`, with shape ``(a.size,)``.\n",
      "        Note that matrices are special cased for backward compatibility, if `a`\n",
      "        is a matrix, then y is a 1-D ndarray.\n",
      "    \n",
      "    See Also\n",
      "    --------\n",
      "    ndarray.flat : 1-D iterator over an array.\n",
      "    ndarray.flatten : 1-D array copy of the elements of an array\n",
      "                      in row-major order.\n",
      "    ndarray.reshape : Change the shape of an array without changing its data.\n",
      "    \n",
      "    Notes\n",
      "    -----\n",
      "    In row-major, C-style order, in two dimensions, the row index\n",
      "    varies the slowest, and the column index the quickest.  This can\n",
      "    be generalized to multiple dimensions, where row-major order\n",
      "    implies that the index along the first axis varies slowest, and\n",
      "    the index along the last quickest.  The opposite holds for\n",
      "    column-major, Fortran-style index ordering.\n",
      "    \n",
      "    When a view is desired in as many cases as possible, ``arr.reshape(-1)``\n",
      "    may be preferable.\n",
      "    \n",
      "    Examples\n",
      "    --------\n",
      "    It is equivalent to ``reshape(-1, order=order)``.\n",
      "    \n",
      "    >>> x = np.array([[1, 2, 3], [4, 5, 6]])\n",
      "    >>> print(np.ravel(x))\n",
      "    [1 2 3 4 5 6]\n",
      "    \n",
      "    >>> print(x.reshape(-1))\n",
      "    [1 2 3 4 5 6]\n",
      "    \n",
      "    >>> print(np.ravel(x, order='F'))\n",
      "    [1 4 2 5 3 6]\n",
      "    \n",
      "    When ``order`` is 'A', it will preserve the array's 'C' or 'F' ordering:\n",
      "    \n",
      "    >>> print(np.ravel(x.T))\n",
      "    [1 4 2 5 3 6]\n",
      "    >>> print(np.ravel(x.T, order='A'))\n",
      "    [1 2 3 4 5 6]\n",
      "    \n",
      "    When ``order`` is 'K', it will preserve orderings that are neither 'C'\n",
      "    nor 'F', but won't reverse axes:\n",
      "    \n",
      "    >>> a = np.arange(3)[::-1]; a\n",
      "    array([2, 1, 0])\n",
      "    >>> a.ravel(order='C')\n",
      "    array([2, 1, 0])\n",
      "    >>> a.ravel(order='K')\n",
      "    array([2, 1, 0])\n",
      "    \n",
      "    >>> a = np.arange(12).reshape(2,3,2).swapaxes(1,2); a\n",
      "    array([[[ 0,  2,  4],\n",
      "            [ 1,  3,  5]],\n",
      "           [[ 6,  8, 10],\n",
      "            [ 7,  9, 11]]])\n",
      "    >>> a.ravel(order='C')\n",
      "    array([ 0,  2,  4,  1,  3,  5,  6,  8, 10,  7,  9, 11])\n",
      "    >>> a.ravel(order='K')\n",
      "    array([ 0,  1,  2,  3,  4,  5,  6,  7,  8,  9, 10, 11])\n",
      "\n",
      "********************\n",
      "Help on function vstack in module numpy:\n",
      "\n",
      "vstack(tup)\n",
      "    Stack arrays in sequence vertically (row wise).\n",
      "    \n",
      "    This is equivalent to concatenation along the first axis after 1-D arrays\n",
      "    of shape `(N,)` have been reshaped to `(1,N)`. Rebuilds arrays divided by\n",
      "    `vsplit`.\n",
      "    \n",
      "    This function makes most sense for arrays with up to 3 dimensions. For\n",
      "    instance, for pixel-data with a height (first axis), width (second axis),\n",
      "    and r/g/b channels (third axis). The functions `concatenate`, `stack` and\n",
      "    `block` provide more general stacking and concatenation operations.\n",
      "    \n",
      "    Parameters\n",
      "    ----------\n",
      "    tup : sequence of ndarrays\n",
      "        The arrays must have the same shape along all but the first axis.\n",
      "        1-D arrays must have the same length.\n",
      "    \n",
      "    Returns\n",
      "    -------\n",
      "    stacked : ndarray\n",
      "        The array formed by stacking the given arrays, will be at least 2-D.\n",
      "    \n",
      "    See Also\n",
      "    --------\n",
      "    stack : Join a sequence of arrays along a new axis.\n",
      "    hstack : Stack arrays in sequence horizontally (column wise).\n",
      "    dstack : Stack arrays in sequence depth wise (along third dimension).\n",
      "    concatenate : Join a sequence of arrays along an existing axis.\n",
      "    vsplit : Split array into a list of multiple sub-arrays vertically.\n",
      "    block : Assemble arrays from blocks.\n",
      "    \n",
      "    Examples\n",
      "    --------\n",
      "    >>> a = np.array([1, 2, 3])\n",
      "    >>> b = np.array([2, 3, 4])\n",
      "    >>> np.vstack((a,b))\n",
      "    array([[1, 2, 3],\n",
      "           [2, 3, 4]])\n",
      "    \n",
      "    >>> a = np.array([[1], [2], [3]])\n",
      "    >>> b = np.array([[2], [3], [4]])\n",
      "    >>> np.vstack((a,b))\n",
      "    array([[1],\n",
      "           [2],\n",
      "           [3],\n",
      "           [2],\n",
      "           [3],\n",
      "           [4]])\n",
      "\n"
     ]
    }
   ],
   "source": [
    "help(np.ravel)\n",
    "print('*'*20)\n",
    "help(np.vstack)\n",
    "\n",
    "#Yes, I do think this has helped me understand what the two functions do.\n",
    "#I think I could use the function by reading the help section, but I might\n",
    "#still have to fiddle a little bit with them to get it spot on"
   ]
  },
  {
   "cell_type": "markdown",
   "metadata": {},
   "source": [
    "## Task 5a: Transposing an Array\n",
    "\n",
    "In the practice notebook perform the following:\n",
    "\n",
    "+ Create a matrix of any size and transpose it."
   ]
  },
  {
   "cell_type": "code",
   "execution_count": 48,
   "metadata": {},
   "outputs": [
    {
     "name": "stdout",
     "output_type": "stream",
     "text": [
      "[[0.96155483 0.63827782 0.74788441 0.91894227 0.40549371]\n",
      " [0.83226724 0.99480002 0.1209609  0.54152467 0.27557292]]\n",
      "\n",
      "Now transposed\n",
      "\n",
      "[[0.96155483 0.83226724]\n",
      " [0.63827782 0.99480002]\n",
      " [0.74788441 0.1209609 ]\n",
      " [0.91894227 0.54152467]\n",
      " [0.40549371 0.27557292]]\n"
     ]
    }
   ],
   "source": [
    "Trans_array=np.random.random((2,5))\n",
    "print(Trans_array)\n",
    "print()\n",
    "print('Now transposed')\n",
    "print()\n",
    "print(np.transpose(Trans_array))"
   ]
  },
  {
   "cell_type": "markdown",
   "metadata": {},
   "source": [
    "## Task 5b: Reshaping an Array\n",
    "\n",
    "In the practice notebook peform the following:\n",
    "\n",
    "+ Create a matrix and resize it by adding 2 extra columns\n",
    "+ Create a matrix and resize it by adding 1 extra row\n",
    "+ Create a matrix of 8 x 2 and resize it to 4 x 4"
   ]
  },
  {
   "cell_type": "code",
   "execution_count": 55,
   "metadata": {},
   "outputs": [
    {
     "name": "stdout",
     "output_type": "stream",
     "text": [
      "[[2]\n",
      " [2]]\n",
      "\n",
      "add columns\n",
      "\n",
      "[[2]\n",
      " [2]\n",
      " [2]]\n",
      "\n",
      "add row\n",
      "\n",
      "[[2 2]\n",
      " [2 2]\n",
      " [2 2]]\n",
      "\n",
      "Now the reshape function\n",
      "\n",
      "[[0.95840013 0.65502502]\n",
      " [0.75913137 0.90399482]\n",
      " [0.1971805  0.65033587]\n",
      " [0.22540305 0.55077396]\n",
      " [0.43998537 0.98455419]\n",
      " [0.99906103 0.35368838]\n",
      " [0.0866972  0.28964635]\n",
      " [0.0764757  0.42290629]]\n",
      "\n",
      "\n",
      "[[0.95840013 0.65502502 0.75913137 0.90399482]\n",
      " [0.1971805  0.65033587 0.22540305 0.55077396]\n",
      " [0.43998537 0.98455419 0.99906103 0.35368838]\n",
      " [0.0866972  0.28964635 0.0764757  0.42290629]]\n"
     ]
    }
   ],
   "source": [
    "Shape_array=np.array([[2],[2]])\n",
    "print(Shape_array)\n",
    "print()\n",
    "print('add columns')\n",
    "print()\n",
    "Shape_array=np.resize(Shape_array,(3,1))\n",
    "print(Shape_array)\n",
    "print()\n",
    "print('add row')\n",
    "print()\n",
    "Shape_array=np.resize(Shape_array,(3,2))\n",
    "print(Shape_array)\n",
    "print()\n",
    "print('Now the reshape function')\n",
    "print()\n",
    "Reshape=np.random.random((8,2))\n",
    "print(Reshape)\n",
    "print()\n",
    "print()\n",
    "print(Reshape.reshape((4,4)))"
   ]
  },
  {
   "cell_type": "markdown",
   "metadata": {},
   "source": [
    "## Task 5c: Appending to an Array\n",
    "\n",
    "In the practice notebook perform the following:\n",
    "\n",
    " + Create a three dimensional array and append another row to the array\n",
    " + Append another colum to the array\n",
    " + Print the final results"
   ]
  },
  {
   "cell_type": "code",
   "execution_count": 94,
   "metadata": {},
   "outputs": [
    {
     "name": "stdout",
     "output_type": "stream",
     "text": [
      "*****Original*****\n",
      "[[[0.61760656]\n",
      "  [0.71018678]\n",
      "  [0.13263562]]\n",
      "\n",
      " [[0.34350931]\n",
      "  [0.34613613]\n",
      "  [0.33741038]]]\n",
      "\n",
      "*****Row*****\n",
      "[[[0.61760656]\n",
      "  [0.71018678]\n",
      "  [0.13263562]\n",
      "  [1.        ]\n",
      "  [2.        ]\n",
      "  [3.        ]]\n",
      "\n",
      " [[0.34350931]\n",
      "  [0.34613613]\n",
      "  [0.33741038]\n",
      "  [4.        ]\n",
      "  [5.        ]\n",
      "  [6.        ]]]\n",
      "Final results after appending\n",
      "[[[0.61760656]\n",
      "  [0.71018678]\n",
      "  [0.13263562]\n",
      "  [1.        ]\n",
      "  [2.        ]\n",
      "  [3.        ]]\n",
      "\n",
      " [[0.34350931]\n",
      "  [0.34613613]\n",
      "  [0.33741038]\n",
      "  [4.        ]\n",
      "  [5.        ]\n",
      "  [6.        ]]\n",
      "\n",
      " [[1.        ]\n",
      "  [2.        ]\n",
      "  [3.        ]\n",
      "  [4.        ]\n",
      "  [5.        ]\n",
      "  [6.        ]]\n",
      "\n",
      " [[1.        ]\n",
      "  [2.        ]\n",
      "  [3.        ]\n",
      "  [4.        ]\n",
      "  [5.        ]\n",
      "  [6.        ]]]\n"
     ]
    }
   ],
   "source": [
    "Append=np.random.random((2,3,1))\n",
    "print(\"*****Original*****\")\n",
    "print(Append)\n",
    "print()\n",
    "print('*****Row*****')\n",
    "row=np.append(Append,[[[1],[2],[3]],[[4],[5],[6]]],axis=1)\n",
    "print(row)\n",
    "print('Final results after appending')\n",
    "column=np.append(row,[[[1],[2],[3],[4],[5],[6]],[[1],[2],[3],[4],[5],[6]]],axis=0)\n",
    "print(column)\n"
   ]
  },
  {
   "cell_type": "markdown",
   "metadata": {},
   "source": [
    "## Task 5d: Inserting and Deleting Elements\n",
    "\n",
    "In the practice notebook perform the following:\n",
    "\n",
    "+ Examine the `help()` documentation for how to use the `insert()` and `delete()` functions.\n",
    "+ Create a matrix and practice inserting a row and deleting a column."
   ]
  },
  {
   "cell_type": "code",
   "execution_count": 111,
   "metadata": {},
   "outputs": [
    {
     "name": "stdout",
     "output_type": "stream",
     "text": [
      "*****Original*****\n",
      "[[[0.21056082 0.90459504]\n",
      "  [0.73261883 0.74688818]\n",
      "  [0.32665662 0.19409509]]\n",
      "\n",
      " [[0.95771163 0.5678259 ]\n",
      "  [0.17738684 0.46164604]\n",
      "  [0.75522409 0.15418107]]]\n",
      "*****Insertion*****\n",
      "[[[ 7.         10.        ]\n",
      "  [ 0.21056082  0.90459504]\n",
      "  [ 0.73261883  0.74688818]\n",
      "  [ 0.32665662  0.19409509]]\n",
      "\n",
      " [[ 7.         10.        ]\n",
      "  [ 0.95771163  0.5678259 ]\n",
      "  [ 0.17738684  0.46164604]\n",
      "  [ 0.75522409  0.15418107]]]\n",
      "\n",
      "*****Deletion*****\n",
      "[[[0.21056082 0.90459504]\n",
      "  [0.73261883 0.74688818]\n",
      "  [0.32665662 0.19409509]]\n",
      "\n",
      " [[0.95771163 0.5678259 ]\n",
      "  [0.17738684 0.46164604]\n",
      "  [0.75522409 0.15418107]]]\n"
     ]
    },
    {
     "name": "stderr",
     "output_type": "stream",
     "text": [
      "C:\\Users\\paige\\Anaconda3\\lib\\site-packages\\ipykernel_launcher.py:8: DeprecationWarning: in the future out of bounds indices will raise an error instead of being ignored by `numpy.delete`.\n",
      "  \n"
     ]
    }
   ],
   "source": [
    "matrix=np.random.random((2,3,2))\n",
    "print('*****Original*****')\n",
    "print(matrix)\n",
    "print('*****Insertion*****')\n",
    "print(np.insert(matrix,[0],[7,10],axis=1))\n",
    "print()\n",
    "print('*****Deletion*****')\n",
    "print(np.delete(matrix,[2],axis=2))"
   ]
  },
  {
   "cell_type": "markdown",
   "metadata": {},
   "source": [
    "## Task 5e: Joining Arrays\n",
    "\n",
    "In the practice notebook perform the following:\n",
    "\n",
    "+ Execute the code (in the cell below).\n",
    "+ Examine the output from each of the function calls in the cell above. If needed to understand, review the help pages for each tool either using the `help()` command or the [Numpy Function Reference](https://docs.scipy.org/doc/numpy/reference/routines.html). \n",
    "+ Respond to the following question and respond in the second cell below.\n",
    "  + Can you identify what is happening with each of them?"
   ]
  },
  {
   "cell_type": "code",
   "execution_count": 112,
   "metadata": {},
   "outputs": [
    {
     "name": "stdout",
     "output_type": "stream",
     "text": [
      "concatenate:\n",
      "[1 2 3 4 1 1 1 1]\n",
      "\n",
      "vstack:\n",
      "[[1 2 3 4]\n",
      " [1 2 3 4]\n",
      " [5 6 7 8]]\n",
      "\n",
      "hstack:\n",
      "[[1 2 3 4 1 2 3 4]\n",
      " [5 6 7 8 5 6 7 8]]\n",
      "\n",
      "column_stack:\n",
      "[[1 2 3 4 1 2 3 4]\n",
      " [5 6 7 8 5 6 7 8]]\n"
     ]
    }
   ],
   "source": [
    "# Concatentate `my_array` and `x`: similar to np.append()\n",
    "my_array = np.array([1,2,3,4])\n",
    "x = np.array([1,1,1,1])\n",
    "print(\"concatenate:\")\n",
    "print(np.concatenate((my_array, x)))\n",
    "\n",
    "# Stack arrays row-wise\n",
    "my_2d_array = np.array([[1,2,3,4], [5,6,7,8]])\n",
    "print(\"\\nvstack:\")\n",
    "print(np.vstack((my_array, my_2d_array)))\n",
    "\n",
    "# Stack arrays horizontally\n",
    "print(\"\\nhstack:\")\n",
    "print(np.hstack((my_2d_array, my_2d_array)))\n",
    "\n",
    "# Stack arrays column-wise\n",
    "print(\"\\ncolumn_stack:\")\n",
    "print(np.column_stack((my_2d_array, my_2d_array)))"
   ]
  },
  {
   "cell_type": "raw",
   "metadata": {},
   "source": [
    ">Concatenate is combining two arrays as a 1D array since they both began as 1D arrays\n",
    ">vstack is adding the 1D array to the new 2D array. resulting in an array with one column made up of three rows\n",
    ">hstack combines the rows of the two arrays \n",
    ">column_stack -- same thing combines the rows of the two arrays into 1 column"
   ]
  },
  {
   "cell_type": "markdown",
   "metadata": {},
   "source": [
    "## Task 5d: Splitting Arrays\n",
    "\n",
    "In the practice notebook perform the following:\n",
    "\n",
    "+ Execute the code (as shown below).\n",
    "+ Examine the output from each of the function calls in the cell above. If needed to understand, review the help pages for each tool either using the `help()` command or the [Numpy Function Reference](https://docs.scipy.org/doc/numpy/reference/routines.html). \n",
    "+ Respond to the following question and respond in the second cell below.\n",
    "  + Can you identify what is happening with each of them?"
   ]
  },
  {
   "cell_type": "code",
   "execution_count": 113,
   "metadata": {},
   "outputs": [
    {
     "name": "stdout",
     "output_type": "stream",
     "text": [
      "original:\n",
      "[[1 2 3 4]\n",
      " [5 6 7 8]]\n",
      "\n",
      "hsplit:\n",
      "[array([[1, 2],\n",
      "       [5, 6]]), array([[3, 4],\n",
      "       [7, 8]])]\n",
      "\n",
      "vsplit:\n",
      "[array([[1, 2, 3, 4]]), array([[5, 6, 7, 8]])]\n"
     ]
    }
   ],
   "source": [
    "# Create a 2D array.\n",
    "my_2d_array = np.array([[1,2,3,4], [5,6,7,8]])\n",
    "print(\"original:\")\n",
    "print(my_2d_array)\n",
    "\n",
    "# Split `my_stacked_array` horizontally at the 2nd index\n",
    "print(\"\\nhsplit:\")\n",
    "print(np.hsplit(my_2d_array, 2))\n",
    "\n",
    "# Split `my_stacked_array` vertically at the 2nd index\n",
    "print(\"\\nvsplit:\")\n",
    "print(np.vsplit(my_2d_array, 2))"
   ]
  },
  {
   "cell_type": "raw",
   "metadata": {},
   "source": [
    ">hsplit -- takes an array and splits it horizontally where the user tells the function to - in this cas it's at the 2nd index.  2 arrays are the product\n",
    ">vsplit -- same has hsplit, but splits the array vertically."
   ]
  }
 ],
 "metadata": {
  "kernelspec": {
   "display_name": "Python 3",
   "language": "python",
   "name": "python3"
  },
  "language_info": {
   "codemirror_mode": {
    "name": "ipython",
    "version": 3
   },
   "file_extension": ".py",
   "mimetype": "text/x-python",
   "name": "python",
   "nbconvert_exporter": "python",
   "pygments_lexer": "ipython3",
   "version": "3.7.4"
  }
 },
 "nbformat": 4,
 "nbformat_minor": 4
}
